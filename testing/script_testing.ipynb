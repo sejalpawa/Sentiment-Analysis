{
 "cells": [
  {
   "cell_type": "code",
   "execution_count": 1,
   "metadata": {},
   "outputs": [],
   "source": [
    "#importing own scripts\n",
    "import sys\n",
    "import os\n",
    "current_dir = os.getcwd()\n",
    "sys.path.append(os.path.join(os.path.dirname(current_dir), 'scripts'))\n",
    "import analyses"
   ]
  },
  {
   "cell_type": "code",
   "execution_count": 2,
   "metadata": {},
   "outputs": [],
   "source": [
    "from textblob import TextBlob"
   ]
  },
  {
   "cell_type": "code",
   "execution_count": 3,
   "metadata": {},
   "outputs": [
    {
     "name": "stdout",
     "output_type": "stream",
     "text": [
      "Sentyment wypowiedzi: Pozytywny, result: 0.5621212121212121\n"
     ]
    }
   ],
   "source": [
    "def evaluate_sentiment(text):\n",
    "    # Tworzenie obiektu TextBlob\n",
    "    blob = TextBlob(text)\n",
    "    \n",
    "    # Ocena sentymentu\n",
    "    sentiment = blob.sentiment.polarity\n",
    "    \n",
    "    # Wydrukowanie wyniku sentymentu\n",
    "    if sentiment > 0:\n",
    "        return \"Pozytywny\"\n",
    "    elif sentiment < 0:\n",
    "        return \"Negatywny\"\n",
    "    else:\n",
    "        return \"Neutralny\"\n",
    "\n",
    "# Przykładowe użycie skryptu\n",
    "example_text = \"I'm really happy with my new phone. The camera quality is amazing!\"\n",
    "\n",
    "result = evaluate_sentiment(example_text)\n",
    "print(f\"Sentyment wypowiedzi: {result}, result: {TextBlob(example_text).sentiment.polarity}\")"
   ]
  },
  {
   "cell_type": "code",
   "execution_count": 4,
   "metadata": {},
   "outputs": [
    {
     "name": "stdout",
     "output_type": "stream",
     "text": [
      "Polski tekst: I absolutely love this place! The atmosphere is fantastic and the food is delicious.\n",
      "Translated text: I absolutely love this place! The atmosphere is fantastic and the food is delicious.\n",
      "Sentiment: Positive, Scores: {'neg': 0.0, 'neu': 0.453, 'pos': 0.547, 'compound': 0.9199}\n",
      "\n",
      "Polski tekst: The movie was a total disappointment. The plot was predictable and the acting was subpar.\n",
      "Translated text: The movie was a total disappointment. The plot was predictable and the acting was subpar.\n",
      "Sentiment: Negative, Scores: {'neg': 0.202, 'neu': 0.798, 'pos': 0.0, 'compound': -0.5106}\n",
      "\n",
      "Polski tekst: Jestem naprawdę zadowolony z mojego nowego telefonu. Jakość aparatu jest niesamowita!\n",
      "Translated text: I am really satisfied with my new phone.The quality of the camera is amazing!\n",
      "Sentiment: Positive, Scores: {'neg': 0.0, 'neu': 0.605, 'pos': 0.395, 'compound': 0.8012}\n",
      "\n",
      "Polski tekst: The service at the restaurant was terrible. We had to wait over an hour for our food.\n",
      "Translated text: The service at the restaurant was terrible. We had to wait over an hour for our food.\n",
      "Sentiment: Negative, Scores: {'neg': 0.162, 'neu': 0.838, 'pos': 0.0, 'compound': -0.4767}\n",
      "\n",
      "Polski tekst: This book is a masterpiece. The storyline kept me hooked until the very end.\n",
      "Translated text: This book is a masterpiece. The storyline kept me hooked until the very end.\n",
      "Sentiment: Positive, Scores: {'neg': 0.0, 'neu': 0.745, 'pos': 0.255, 'compound': 0.6249}\n",
      "\n",
      "Polski tekst: Ich liebe diesen Ort! Die Atmosphäre ist fantastisch und das Essen ist köstlich\n",
      "Translated text: I love this place!The atmosphere is fantastic and the food is delicious\n",
      "Sentiment: Positive, Scores: {'neg': 0.0, 'neu': 0.404, 'pos': 0.596, 'compound': 0.9151}\n",
      "\n"
     ]
    }
   ],
   "source": [
    "#pip install googletrans==4.0.0-rc1\n",
    "from googletrans import Translator\n",
    "import nltk\n",
    "from nltk.sentiment.vader import SentimentIntensityAnalyzer\n",
    "\n",
    "# Pobranie zasobów NLTK\n",
    "# nltk.download('vader_lexicon')\n",
    "\n",
    "# Tworzenie obiektu SentimentIntensityAnalyzer\n",
    "sia = SentimentIntensityAnalyzer()\n",
    "\n",
    "# Przykładowe dane\n",
    "texts = [\n",
    "    \"I absolutely love this place! The atmosphere is fantastic and the food is delicious.\",\n",
    "    \"The movie was a total disappointment. The plot was predictable and the acting was subpar.\",\n",
    "    \"Jestem naprawdę zadowolony z mojego nowego telefonu. Jakość aparatu jest niesamowita!\",\n",
    "    \"The service at the restaurant was terrible. We had to wait over an hour for our food.\",\n",
    "    \"This book is a masterpiece. The storyline kept me hooked until the very end.\",\n",
    "    \"Ich liebe diesen Ort! Die Atmosphäre ist fantastisch und das Essen ist köstlich\"\n",
    "]\n",
    "\n",
    "translator = Translator()\n",
    "\n",
    "for text in texts:\n",
    "    # Wykrywanie języka\n",
    "    language = translator.detect(text).lang\n",
    "    if language != 'en':\n",
    "        # Tłumaczenie z wykrytego języka na angielski\n",
    "        translated_text = translator.translate(text, src=language, dest='en').text\n",
    "    else:\n",
    "        translated_text = text\n",
    "        \n",
    "    # Analiza sentymentu\n",
    "    scores = sia.polarity_scores(translated_text)\n",
    "    sentiment = 'Positive' if scores['compound'] > 0 else 'Negative' if scores['compound'] < 0 else 'Neutral'\n",
    "    # Wyświetlenie wyników\n",
    "    print(f\"Polski tekst: {text}\\nTranslated text: {translated_text}\\nSentiment: {sentiment}, Scores: {scores}\\n\")"
   ]
  },
  {
   "cell_type": "code",
   "execution_count": 6,
   "metadata": {},
   "outputs": [
    {
     "data": {
      "text/plain": [
       "(0.744, 0.0, 0.256, 0.4404, 'pl', 'good movie')"
      ]
     },
     "execution_count": 6,
     "metadata": {},
     "output_type": "execute_result"
    }
   ],
   "source": [
    "analyses.defaultAnalysis('dobry film')"
   ]
  }
 ],
 "metadata": {
  "kernelspec": {
   "display_name": "Python 3",
   "language": "python",
   "name": "python3"
  },
  "language_info": {
   "codemirror_mode": {
    "name": "ipython",
    "version": 3
   },
   "file_extension": ".py",
   "mimetype": "text/x-python",
   "name": "python",
   "nbconvert_exporter": "python",
   "pygments_lexer": "ipython3",
   "version": "3.10.11"
  }
 },
 "nbformat": 4,
 "nbformat_minor": 2
}
